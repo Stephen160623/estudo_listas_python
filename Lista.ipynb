{
 "cells": [
  {
   "cell_type": "markdown",
   "id": "312cf522",
   "metadata": {},
   "source": [
    "# LISTAS"
   ]
  },
  {
   "cell_type": "code",
   "execution_count": 32,
   "id": "f94f5912",
   "metadata": {},
   "outputs": [],
   "source": [
    "#CRIACAO DE LISTAS\n",
    "\n",
    "lista1 = [1, \"a\", 2.3]\n",
    "\n",
    "b = [1, 2, 3, 4, 5, 6]"
   ]
  },
  {
   "cell_type": "code",
   "execution_count": 33,
   "id": "cebb9071",
   "metadata": {},
   "outputs": [
    {
     "name": "stdout",
     "output_type": "stream",
     "text": [
      "[1, 'a', 2.3]\n",
      "[1, 2, 3, 4, 5, 6]\n"
     ]
    }
   ],
   "source": [
    "print(lista1)\n",
    "print(b)"
   ]
  },
  {
   "cell_type": "code",
   "execution_count": 34,
   "id": "5197cade",
   "metadata": {},
   "outputs": [
    {
     "name": "stdout",
     "output_type": "stream",
     "text": [
      "1\n",
      "3\n"
     ]
    }
   ],
   "source": [
    "#ACESSANDO OS ELEMENTOS DA LISTA\n",
    "\n",
    "print(lista1[0])\n",
    "print(b[2])"
   ]
  },
  {
   "cell_type": "code",
   "execution_count": 35,
   "id": "fdb9f895",
   "metadata": {},
   "outputs": [],
   "source": [
    "#MODIFICANDO UM ELEMENTO DA LISTA\n",
    "\n",
    "b[2]=15"
   ]
  },
  {
   "cell_type": "code",
   "execution_count": 36,
   "id": "a5d6f3dc",
   "metadata": {},
   "outputs": [
    {
     "name": "stdout",
     "output_type": "stream",
     "text": [
      "[1, 2, 15, 4, 5, 6]\n"
     ]
    }
   ],
   "source": [
    "#VERIFICANDO A NOVA LISTA b\n",
    "print(b)"
   ]
  },
  {
   "cell_type": "markdown",
   "id": "5ccc4dd9",
   "metadata": {},
   "source": [
    "## ORDENAÇÃO DE LISTAS "
   ]
  },
  {
   "cell_type": "code",
   "execution_count": 42,
   "id": "dd2981b6",
   "metadata": {},
   "outputs": [
    {
     "name": "stdout",
     "output_type": "stream",
     "text": [
      "[1, 2, 4, 5, 6, 15]\n"
     ]
    }
   ],
   "source": [
    "# ORDENANDO A LISTA b\n",
    "\n",
    "c = sorted(b)\n",
    "\n",
    "print(c)"
   ]
  },
  {
   "cell_type": "code",
   "execution_count": 47,
   "id": "52b9223e",
   "metadata": {},
   "outputs": [],
   "source": [
    "#USANDO O MÉTODO sort\n",
    "\n",
    "d = b.sort()"
   ]
  },
  {
   "cell_type": "code",
   "execution_count": 48,
   "id": "f0a88f17",
   "metadata": {},
   "outputs": [
    {
     "name": "stdout",
     "output_type": "stream",
     "text": [
      "[1, 2, 4, 5, 6, 15]\n"
     ]
    }
   ],
   "source": [
    "print(b)"
   ]
  },
  {
   "cell_type": "code",
   "execution_count": 52,
   "id": "6ce48b5b",
   "metadata": {},
   "outputs": [],
   "source": [
    "e = [2,13,6,1,9]"
   ]
  },
  {
   "cell_type": "code",
   "execution_count": 56,
   "id": "0e89bbb9",
   "metadata": {},
   "outputs": [
    {
     "name": "stdout",
     "output_type": "stream",
     "text": [
      "None\n"
     ]
    }
   ],
   "source": [
    "print(e.sort())"
   ]
  },
  {
   "cell_type": "code",
   "execution_count": 57,
   "id": "410d1544",
   "metadata": {},
   "outputs": [
    {
     "name": "stdout",
     "output_type": "stream",
     "text": [
      "[1, 2, 6, 9, 13]\n"
     ]
    }
   ],
   "source": [
    "print(e)"
   ]
  }
 ],
 "metadata": {
  "kernelspec": {
   "display_name": "Python 3 (ipykernel)",
   "language": "python",
   "name": "python3"
  },
  "language_info": {
   "codemirror_mode": {
    "name": "ipython",
    "version": 3
   },
   "file_extension": ".py",
   "mimetype": "text/x-python",
   "name": "python",
   "nbconvert_exporter": "python",
   "pygments_lexer": "ipython3",
   "version": "3.10.9"
  }
 },
 "nbformat": 4,
 "nbformat_minor": 5
}
